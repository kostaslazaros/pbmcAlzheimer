{
 "cells": [
  {
   "cell_type": "markdown",
   "id": "d501c8f8",
   "metadata": {},
   "source": [
    "## GSE181279 raw data merging and batch effect correction using scanpy and SCALEX"
   ]
  },
  {
   "cell_type": "code",
   "execution_count": null,
   "id": "b8445ccb",
   "metadata": {},
   "outputs": [],
   "source": [
    "import scalex\n",
    "from scalex import SCALEX\n",
    "from matplotlib import pyplot as plt\n",
    "from matplotlib.pyplot import rc_context\n",
    "import anndata as ad\n",
    "import scanpy as sc\n",
    "import pandas as pd\n",
    "import numpy as np\n",
    "import seaborn as sns\n",
    "import matplotlib\n",
    "import scipy\n",
    "import hdf5plugin\n",
    "import os\n",
    "import csv\n",
    "import triku as tk\n",
    "import warnings\n",
    "warnings.filterwarnings('ignore')"
   ]
  },
  {
   "cell_type": "code",
   "execution_count": null,
   "id": "eacfa469",
   "metadata": {},
   "outputs": [],
   "source": [
    "DATASET_ACCESSION_NUMBER = \"GSE181279\""
   ]
  },
  {
   "cell_type": "markdown",
   "id": "90e249ed",
   "metadata": {},
   "source": [
    "### Initialization of important utility functions"
   ]
  },
  {
   "cell_type": "code",
   "execution_count": null,
   "id": "1344499c",
   "metadata": {},
   "outputs": [],
   "source": [
    "def annotate_by_batch(batch_name: str):\n",
    "    if '_AD' in batch_name:\n",
    "        return \"Alzheimer's disease\"\n",
    "    if '_NC' in batch_name:\n",
    "        return \"Normal control\"\n",
    "    return \"Uknown class\"\n",
    "\n",
    "def create_anndata_list(main_dir):\n",
    "    postfix = \"matrix.mtx.gz\"\n",
    "    anndata_list = []\n",
    "    for file in os.listdir(main_dir):\n",
    "        if file.endswith(postfix):\n",
    "            prefix = file[:-len(postfix)]\n",
    "            print(f\"Processing batch with prefix: {prefix} ...\", end=\" \")\n",
    "            adata = sc.read_10x_mtx(main_dir, prefix=prefix)\n",
    "            adata.obs['batch_name'] = prefix[:-1]\n",
    "            adata.obs['disease_type'] = annotate_by_batch(prefix)\n",
    "            anndata_list.append(adata)\n",
    "            print(\"done.\")\n",
    "    return anndata_list"
   ]
  },
  {
   "cell_type": "code",
   "execution_count": null,
   "id": "f9207c33",
   "metadata": {},
   "outputs": [],
   "source": [
    "def sc_preprocess(adata_raw):\n",
    "    sc.pp.filter_cells(adata_raw, min_genes=600)\n",
    "    sc.pp.filter_genes(adata_raw, min_cells=3)\n",
    "    adata_raw = adata_raw[:, [gene for gene in adata_raw.var_names if not str(gene).startswith(tuple(['ERCC', 'MT-', 'mt-']))]]\n",
    "    sc.pp.normalize_total(adata_raw, target_sum=1e4)\n",
    "    sc.pp.log1p(adata_raw)\n",
    "    sc.pp.highly_variable_genes(adata_raw, min_mean=0.0125, max_mean=3, min_disp=0.5)\n",
    "    adata_raw.raw = adata_raw\n",
    "    adata_raw = adata_raw[:, adata_raw.var.highly_variable]\n",
    "    sc.pp.scale(adata_raw, max_value=10)\n",
    "    sc.pp.pca(adata_raw)\n",
    "    # the utilities below can be commented out for use of the preprocessor in conjunction with other integration techniques\n",
    "    sc.pp.neighbors(adata_raw)\n",
    "    sc.tl.umap(adata_raw)\n",
    "    sc.tl.tsne(adata_raw)\n",
    "    return adata_raw"
   ]
  },
  {
   "cell_type": "code",
   "execution_count": null,
   "id": "4e8eb0bb",
   "metadata": {},
   "outputs": [],
   "source": [
    "gse_list = create_anndata_list(f\"datasets/{DATASET_ACCESSION_NUMBER}_RAW\")\n",
    "gse_list"
   ]
  },
  {
   "cell_type": "code",
   "execution_count": null,
   "id": "03a59a35",
   "metadata": {},
   "outputs": [],
   "source": [
    "gse_merged = ad.AnnData.concatenate(*gse_list)\n",
    "gse_merged"
   ]
  },
  {
   "cell_type": "markdown",
   "id": "b52d2ab2",
   "metadata": {},
   "source": [
    "### (Optional) save merged anndata object to disk"
   ]
  },
  {
   "cell_type": "code",
   "execution_count": null,
   "id": "ac6b7d46",
   "metadata": {},
   "outputs": [],
   "source": [
    "gse_merged.write_h5ad(\n",
    "    f\"{DATASET_ACCESSION_NUMBER}_merged.h5ad\",\n",
    "    compression=hdf5plugin.FILTERS[\"zstd\"],\n",
    "    compression_opts=hdf5plugin.Zstd(clevel=5).filter_options\n",
    ")"
   ]
  },
  {
   "cell_type": "markdown",
   "id": "13af8325",
   "metadata": {},
   "source": [
    "### (Optional) get merged dataset from h5ad file"
   ]
  },
  {
   "cell_type": "code",
   "execution_count": null,
   "id": "2106d606",
   "metadata": {},
   "outputs": [],
   "source": [
    "# This cell can be used after executing the code above\n",
    "gse_merged = sc.read(f\"./datasets/{DATASET_ACCESSION_NUMBER}_merged.h5ad\")\n",
    "gse_merged"
   ]
  },
  {
   "cell_type": "code",
   "execution_count": null,
   "id": "36116c90",
   "metadata": {},
   "outputs": [],
   "source": [
    "gse_merged.obs.batch_name.value_counts()"
   ]
  },
  {
   "cell_type": "code",
   "execution_count": null,
   "id": "4d3b376f",
   "metadata": {},
   "outputs": [],
   "source": [
    "gse_merged.obs"
   ]
  },
  {
   "cell_type": "markdown",
   "id": "0c606f43",
   "metadata": {},
   "source": [
    "### Preprocess merged dataset using the function created above"
   ]
  },
  {
   "cell_type": "code",
   "execution_count": null,
   "id": "8fe212da",
   "metadata": {},
   "outputs": [],
   "source": [
    "gse_merged_preprocessed = sc_preprocess(gse_merged)\n",
    "gse_merged_preprocessed"
   ]
  },
  {
   "cell_type": "markdown",
   "id": "156c8c88",
   "metadata": {},
   "source": [
    "### (Optional) Store preprocessed data into .h5ad file"
   ]
  },
  {
   "cell_type": "code",
   "execution_count": null,
   "id": "4ab36b8c",
   "metadata": {},
   "outputs": [],
   "source": [
    "gse_merged_preprocessed.write_h5ad(\n",
    "    f\"./datasets/{DATASET_ACCESSION_NUMBER}_merged_qcdr.h5ad\",\n",
    "    compression=hdf5plugin.FILTERS[\"zstd\"],\n",
    "    compression_opts=hdf5plugin.Zstd(clevel=5).filter_options\n",
    ")"
   ]
  },
  {
   "cell_type": "markdown",
   "id": "793dc889",
   "metadata": {},
   "source": [
    "### Visualize merged and preprocessed dataset before performing batch effect correction\n",
    "\n",
    "#### Note: preprocessing is only executed for the purposes of visualization; SCALEX performs scanpy's preprocessing steps before integrating the data."
   ]
  },
  {
   "cell_type": "code",
   "execution_count": null,
   "id": "f44f0628",
   "metadata": {},
   "outputs": [],
   "source": [
    "with rc_context({'figure.figsize': (6, 6)}):\n",
    "    sc.pl.tsne(gse_merged_preprocessed,color=['batch_name'], title=' ', legend_loc=None)"
   ]
  },
  {
   "cell_type": "code",
   "execution_count": null,
   "id": "1d495d0d",
   "metadata": {},
   "outputs": [],
   "source": [
    "with rc_context({'figure.figsize': (6, 6)}):\n",
    "    sc.pl.tsne(gse_merged_preprocessed,color=['disease_type'], title=' ', legend_loc=None)"
   ]
  },
  {
   "cell_type": "markdown",
   "id": "157a8cac",
   "metadata": {},
   "source": [
    "### Execute SCALEX batch effect correction method"
   ]
  },
  {
   "cell_type": "code",
   "execution_count": null,
   "id": "e13116fe",
   "metadata": {},
   "outputs": [],
   "source": [
    "gse_merged_corrected = SCALEX(f'./datasets/{DATASET_ACCESSION_NUMBER}_merged.h5ad',batch_name='batch',min_features=600, min_cells=3, outdir='gse181279_output/',show=False,gpu=7)"
   ]
  },
  {
   "cell_type": "code",
   "execution_count": null,
   "id": "22864f66",
   "metadata": {},
   "outputs": [],
   "source": [
    "gse_merged_corrected"
   ]
  },
  {
   "cell_type": "markdown",
   "id": "eb184e4b",
   "metadata": {},
   "source": [
    "### (Optional) store merged and corrected dataset to h5ad file"
   ]
  },
  {
   "cell_type": "code",
   "execution_count": null,
   "id": "08d35f19",
   "metadata": {},
   "outputs": [],
   "source": [
    "gse_merged_corrected.write_h5ad(\n",
    "    f\"./{DATASET_ACCESSION_NUMBER}_merged_corrected.h5ad\",\n",
    "    compression=hdf5plugin.FILTERS[\"zstd\"],\n",
    "    compression_opts=hdf5plugin.Zstd(clevel=5).filter_options\n",
    ")"
   ]
  },
  {
   "cell_type": "markdown",
   "id": "6823fb9f",
   "metadata": {},
   "source": [
    "### (Optional) get integrated/corrected dataset from h5ad file"
   ]
  },
  {
   "cell_type": "code",
   "execution_count": null,
   "id": "f9bd89cf",
   "metadata": {},
   "outputs": [],
   "source": [
    "# This cell can be used once the code above has been executed\n",
    "gse_merged_corrected = sc.read(f\"./datasets/{DATASET_ACCESSION_NUMBER}_merged_corrected.h5ad\")\n",
    "gse_merged_corrected"
   ]
  },
  {
   "cell_type": "code",
   "execution_count": null,
   "id": "a0ecc77a",
   "metadata": {},
   "outputs": [],
   "source": [
    "gse_merged_corrected.obs"
   ]
  },
  {
   "cell_type": "code",
   "execution_count": null,
   "id": "746e8b91",
   "metadata": {},
   "outputs": [],
   "source": [
    "gse181279_corrected_genes = pd.DataFrame(gse_merged_corrected.var.index)\n",
    "gse181279_corrected_genes.rename(columns={0: \"genes\"}, inplace=True)\n",
    "gse181279_corrected_genes"
   ]
  },
  {
   "cell_type": "code",
   "execution_count": null,
   "id": "0893f74c",
   "metadata": {},
   "outputs": [],
   "source": [
    "sc.pp.pca(gse_merged_corrected)\n",
    "sc.pp.neighbors(gse_merged_corrected, metric='cosine', n_neighbors=int(0.5 * len(gse_merged_corrected) ** 0.5))\n",
    "sc.tl.tsne(gse_merged_corrected)\n",
    "gse_merged_corrected"
   ]
  },
  {
   "cell_type": "markdown",
   "id": "424828d7",
   "metadata": {},
   "source": [
    "### Visualize results after batch effect correction with SCALEX (using tsne)"
   ]
  },
  {
   "cell_type": "code",
   "execution_count": null,
   "id": "49c0f81f",
   "metadata": {},
   "outputs": [],
   "source": [
    "sc.settings.set_figure_params(dpi=80, facecolor='white',figsize=(6,6),frameon=True)"
   ]
  },
  {
   "cell_type": "code",
   "execution_count": null,
   "id": "178ac953",
   "metadata": {
    "scrolled": false
   },
   "outputs": [],
   "source": [
    "with rc_context({'figure.figsize': (6, 6)}):\n",
    "    sc.pl.tsne(gse_merged_corrected,color=['batch_name'], title=' ',legend_fontsize=10)"
   ]
  },
  {
   "cell_type": "code",
   "execution_count": null,
   "id": "348812b6",
   "metadata": {
    "scrolled": false
   },
   "outputs": [],
   "source": [
    "with rc_context({'figure.figsize': (6, 6)}):\n",
    "    sc.pl.tsne(gse_merged_corrected,color=['disease_type'], title = ' ', legend_fontsize=10)"
   ]
  },
  {
   "cell_type": "markdown",
   "id": "3485c516",
   "metadata": {},
   "source": [
    "### Find differentially expressed genes"
   ]
  },
  {
   "cell_type": "code",
   "execution_count": null,
   "id": "cee13de0",
   "metadata": {},
   "outputs": [],
   "source": [
    "sc.tl.rank_genes_groups(adata=gse_merged_corrected, groupby=\"disease_type\",use_raw=False, reference=\"Normal control\", n_genes=500, method='logreg', key_added=\"logreg\")"
   ]
  },
  {
   "cell_type": "code",
   "execution_count": null,
   "id": "0016a76f",
   "metadata": {},
   "outputs": [],
   "source": [
    "sc.pl.rank_genes_groups(gse_merged_corrected, n_genes=25, sharey=False, key = \"logreg\", ncols=2)"
   ]
  },
  {
   "cell_type": "code",
   "execution_count": null,
   "id": "c09fe921",
   "metadata": {},
   "outputs": [],
   "source": [
    "gse_merged_corrected.uns['logreg']['names']"
   ]
  },
  {
   "cell_type": "code",
   "execution_count": null,
   "id": "446bd76b",
   "metadata": {},
   "outputs": [],
   "source": [
    "degs = pd.DataFrame(gse_merged_corrected.uns['logreg']['names'])\n",
    "degs.rename(columns={\"Alzheimer's disease\": \"genes\"}, inplace=True)\n",
    "degs = degs.reset_index()\n",
    "degs.rename(columns={\"index\": \"degs_index\"}, inplace=True)"
   ]
  },
  {
   "cell_type": "code",
   "execution_count": null,
   "id": "401f04dc",
   "metadata": {},
   "outputs": [],
   "source": [
    "degs"
   ]
  },
  {
   "cell_type": "code",
   "execution_count": null,
   "id": "a43127ee",
   "metadata": {},
   "outputs": [],
   "source": [
    "degs_lst = np.recarray.tolist(gse_merged_corrected.uns['logreg']['names'])\n",
    "degs_lst = [''.join(i) for i in degs_lst]"
   ]
  },
  {
   "cell_type": "code",
   "execution_count": null,
   "id": "cf24382a",
   "metadata": {},
   "outputs": [],
   "source": [
    "gse181279_corrected_degs = pd.DataFrame({'index': gse181279_corrected_genes.index[gse181279_corrected_genes['genes'].isin(degs_lst)],\n",
    "                                          'genes': gse181279_corrected_genes.loc[gse181279_corrected_genes['genes'].isin(degs_lst), 'genes']})"
   ]
  },
  {
   "cell_type": "code",
   "execution_count": null,
   "id": "cb91585a",
   "metadata": {},
   "outputs": [],
   "source": [
    "degmerge = pd.merge(gse181279_corrected_degs, degs, on='genes')\n",
    "degmerge = degmerge.sort_values(by=['degs_index'])"
   ]
  },
  {
   "cell_type": "code",
   "execution_count": null,
   "id": "9ce03bca",
   "metadata": {},
   "outputs": [],
   "source": [
    "degmerge"
   ]
  },
  {
   "cell_type": "code",
   "execution_count": null,
   "id": "e1f5c900",
   "metadata": {},
   "outputs": [],
   "source": [
    "degmerge[['index', 'genes']].to_csv(f'{DATASET_ACCESSION_NUMBER}_corrected_degs.csv', index=False)"
   ]
  },
  {
   "cell_type": "markdown",
   "id": "37e2910b",
   "metadata": {},
   "source": [
    "### Gene selection using triku"
   ]
  },
  {
   "cell_type": "code",
   "execution_count": null,
   "id": "51d3174b",
   "metadata": {},
   "outputs": [],
   "source": [
    "gse_merged_corrected"
   ]
  },
  {
   "cell_type": "code",
   "execution_count": null,
   "id": "ea335c1b",
   "metadata": {},
   "outputs": [],
   "source": [
    "tk.tl.triku(object_triku=gse_merged_corrected, n_features=500, use_raw=False)"
   ]
  },
  {
   "cell_type": "code",
   "execution_count": null,
   "id": "350d474c",
   "metadata": {},
   "outputs": [],
   "source": [
    "gse_merged_triku_var = gse_merged_corrected.var\n",
    "triku_selected_genes = gse_merged_triku_var[gse_merged_triku_var['triku_highly_variable'] == True].index\n",
    "triku_selected_genes_lst = pd.Index.tolist(triku_selected_genes)\n",
    "triku_selected_genes_lst"
   ]
  },
  {
   "cell_type": "code",
   "execution_count": null,
   "id": "1367f52b",
   "metadata": {},
   "outputs": [],
   "source": [
    "triku_genes_df = pd.DataFrame(triku_selected_genes)"
   ]
  },
  {
   "cell_type": "code",
   "execution_count": null,
   "id": "98533d38",
   "metadata": {},
   "outputs": [],
   "source": [
    "triku_genes_df.rename(columns={0: \"genes\"}, inplace=True)"
   ]
  },
  {
   "cell_type": "code",
   "execution_count": null,
   "id": "ee8e9706",
   "metadata": {},
   "outputs": [],
   "source": [
    "triku_genes_df"
   ]
  },
  {
   "cell_type": "code",
   "execution_count": null,
   "id": "151c78d3",
   "metadata": {},
   "outputs": [],
   "source": [
    "triku_selected_genes = pd.DataFrame({'index': gse181279_corrected_genes.index[gse181279_corrected_genes['genes'].isin(triku_selected_genes_lst)],\n",
    "                                          'genes': gse181279_corrected_genes.loc[gse181279_corrected_genes['genes'].isin(triku_selected_genes_lst), 'genes']})"
   ]
  },
  {
   "cell_type": "code",
   "execution_count": null,
   "id": "16f9c90c",
   "metadata": {},
   "outputs": [],
   "source": [
    "triku_selected_genes"
   ]
  },
  {
   "cell_type": "code",
   "execution_count": null,
   "id": "ea103f2c",
   "metadata": {},
   "outputs": [],
   "source": [
    "triku_selected_genes[['index', 'genes']].to_csv(f'{DATASET_ACCESSION_NUMBER}_corrected_triku_genes.csv', index=False)"
   ]
  },
  {
   "cell_type": "markdown",
   "id": "cc75235b",
   "metadata": {},
   "source": [
    "### Get tsne vectors from the two versions of the merged dataset (before and after batch effect correction with SCALEX)"
   ]
  },
  {
   "cell_type": "code",
   "execution_count": null,
   "id": "ae03871b",
   "metadata": {},
   "outputs": [],
   "source": [
    "tsne_before_corr = gse_merged_preprocessed.obsm['X_tsne']\n",
    "tsne_before_corr1 = tsne_before_corr[:,0]\n",
    "tsne_before_corr2 = tsne_before_corr[:,1]"
   ]
  },
  {
   "cell_type": "code",
   "execution_count": null,
   "id": "b73cb803",
   "metadata": {},
   "outputs": [],
   "source": [
    "tsne_after_corr = gse_merged_corrected.obsm['X_tsne']\n",
    "tsne_after_corr1 = tsne_after_corr[:,0]\n",
    "tsne_after_corr2 = tsne_after_corr[:,1]"
   ]
  },
  {
   "cell_type": "code",
   "execution_count": null,
   "id": "f5f1c4ad",
   "metadata": {},
   "outputs": [],
   "source": [
    "len(tsne_before_corr1)"
   ]
  },
  {
   "cell_type": "markdown",
   "id": "fcb17413",
   "metadata": {},
   "source": [
    "### Get and store obs from anndata objects"
   ]
  },
  {
   "cell_type": "code",
   "execution_count": null,
   "id": "6b7e2cfb",
   "metadata": {},
   "outputs": [],
   "source": [
    "gse_merged_preprocessed_obs_df = gse_merged_preprocessed.obs\n",
    "gse_merged_preprocessed_obs_df['tsne_before1'] = tsne_before_corr1.tolist()\n",
    "gse_merged_preprocessed_obs_df['tsne_before2'] = tsne_before_corr2.tolist()\n",
    "gse_merged_preprocessed_obs_df = gse_merged_preprocessed_obs_df.drop(['batch', 'n_genes', 'batch_name', 'disease_type'], axis=1)"
   ]
  },
  {
   "cell_type": "code",
   "execution_count": null,
   "id": "9f4b9700",
   "metadata": {},
   "outputs": [],
   "source": [
    "gse_merged_preprocessed_obs_df"
   ]
  },
  {
   "cell_type": "code",
   "execution_count": null,
   "id": "05a36018",
   "metadata": {},
   "outputs": [],
   "source": [
    "gse_merged_corrected_obs_df = gse_merged_corrected.obs\n",
    "gse_merged_corrected_obs_df['tsne_after1'] = tsne_after_corr1.tolist()\n",
    "gse_merged_corrected_obs_df['tsne_after2'] = tsne_after_corr2.tolist()\n",
    "gse_merged_corrected_batch_name = gse_merged_corrected_obs_df['batch_name']\n",
    "gse_merged_corrected_disease_type = gse_merged_corrected_obs_df['disease_type']\n",
    "gse_merged_corrected_obs_df = gse_merged_corrected_obs_df.drop(['batch', 'n_genes', 'leiden', 'batch_name', 'disease_type'], axis=1)"
   ]
  },
  {
   "cell_type": "code",
   "execution_count": null,
   "id": "79af616a",
   "metadata": {},
   "outputs": [],
   "source": [
    "gse_merged_corrected_obs_df"
   ]
  },
  {
   "cell_type": "markdown",
   "id": "db83de2c",
   "metadata": {},
   "source": [
    "### Get intersection of two dataframes (keep only the number of cells after batch effect correction)"
   ]
  },
  {
   "cell_type": "code",
   "execution_count": null,
   "id": "e5a61458",
   "metadata": {},
   "outputs": [],
   "source": [
    "gse_common = gse_merged_preprocessed_obs_df.join(gse_merged_corrected_obs_df, how='inner')\n",
    "gse_common['disease_type'] = gse_merged_corrected_disease_type.tolist()\n",
    "gse_common['batch_name'] = gse_merged_corrected_batch_name.tolist()\n",
    "gse_common"
   ]
  },
  {
   "cell_type": "code",
   "execution_count": null,
   "id": "8b9232b7",
   "metadata": {},
   "outputs": [],
   "source": [
    "gse_common.index.tolist() == gse_merged_corrected_obs_df.index.tolist()"
   ]
  },
  {
   "cell_type": "markdown",
   "id": "95cf9642",
   "metadata": {},
   "source": [
    "### Create .csv files of gse_common dataframe (contains; batch_name, disease_type, tsne vectors before and after correction)"
   ]
  },
  {
   "cell_type": "code",
   "execution_count": null,
   "id": "1120fda1",
   "metadata": {},
   "outputs": [],
   "source": [
    "gse_common.to_csv(f'./datasets/{DATASET_ACCESSION_NUMBER}_tsne_annotated.csv')"
   ]
  },
  {
   "cell_type": "markdown",
   "id": "198d0969",
   "metadata": {},
   "source": [
    "### Create .csv files from the corrected anndata object"
   ]
  },
  {
   "cell_type": "code",
   "execution_count": null,
   "id": "07cc347e",
   "metadata": {},
   "outputs": [],
   "source": [
    "gse_merged_corrected_df = pd.DataFrame(gse_merged_corrected.X.todense())\n",
    "gse_merged_corrected_df.to_csv(f'{DATASET_ACCESSION_NUMBER}_corrected_matrix.csv')\n",
    "gse_merged_corrected.obs.to_csv(f'{DATASET_ACCESSION_NUMBER}_corrected_observations.csv')\n",
    "gse_merged_corrected.var.to_csv(f'{DATASET_ACCESSION_NUMBER}_corrected_variables.csv')"
   ]
  },
  {
   "cell_type": "code",
   "execution_count": null,
   "id": "edc30260",
   "metadata": {},
   "outputs": [],
   "source": []
  }
 ],
 "metadata": {
  "kernelspec": {
   "display_name": "Python 3 (ipykernel)",
   "language": "python",
   "name": "python3"
  },
  "language_info": {
   "codemirror_mode": {
    "name": "ipython",
    "version": 3
   },
   "file_extension": ".py",
   "mimetype": "text/x-python",
   "name": "python",
   "nbconvert_exporter": "python",
   "pygments_lexer": "ipython3",
   "version": "3.10.9"
  }
 },
 "nbformat": 4,
 "nbformat_minor": 5
}
