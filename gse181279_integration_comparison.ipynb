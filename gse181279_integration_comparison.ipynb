{
 "cells": [
  {
   "cell_type": "markdown",
   "id": "1d9e89c2",
   "metadata": {},
   "source": [
    "### Data integration algorithms comparison"
   ]
  },
  {
   "cell_type": "code",
   "execution_count": null,
   "id": "489068dc",
   "metadata": {
    "tags": []
   },
   "outputs": [],
   "source": [
    "import scanpy as sc\n",
    "import hdf5plugin\n",
    "import matplotlib.pyplot as plt\n",
    "from matplotlib.pyplot import rc_context\n",
    "import scanpy.external as sce\n",
    "import numpy as np\n",
    "import scanorama\n",
    "import scib\n",
    "import os\n",
    "import warnings\n",
    "warnings.filterwarnings('ignore')"
   ]
  },
  {
   "cell_type": "code",
   "execution_count": null,
   "id": "208d6b5b",
   "metadata": {
    "tags": []
   },
   "outputs": [],
   "source": [
    "sc.settings.verbosity = 3\n",
    "sc.settings.set_figure_params(dpi=80, facecolor='white',figsize=(3,3),frameon=True)\n",
    "sc.logging.print_header()\n",
    "plt.rcParams['axes.unicode_minus']=False"
   ]
  },
  {
   "cell_type": "code",
   "execution_count": null,
   "id": "02a638d7",
   "metadata": {
    "tags": []
   },
   "outputs": [],
   "source": [
    "DATASET_ACCESSION_NUMBER = \"GSE181279\""
   ]
  },
  {
   "cell_type": "markdown",
   "id": "bcca3b78",
   "metadata": {},
   "source": [
    "### Read merged and preprocessed data and create copies for use with all 3 algorithms (each will be used separately)"
   ]
  },
  {
   "cell_type": "code",
   "execution_count": null,
   "id": "965ee64c",
   "metadata": {
    "tags": []
   },
   "outputs": [],
   "source": [
    "adata = sc.read(f\"./datasets/{DATASET_ACCESSION_NUMBER}_merged_qcdr.h5ad\")\n",
    "adata"
   ]
  },
  {
   "cell_type": "code",
   "execution_count": null,
   "id": "a3f1f442",
   "metadata": {},
   "outputs": [],
   "source": [
    "adata_sc = adata.copy()\n",
    "adata_sc"
   ]
  },
  {
   "cell_type": "code",
   "execution_count": null,
   "id": "da313e81",
   "metadata": {
    "tags": []
   },
   "outputs": [],
   "source": [
    "adata_bbknn = adata.copy()\n",
    "adata_bbknn"
   ]
  },
  {
   "cell_type": "markdown",
   "id": "9936aa0f",
   "metadata": {},
   "source": [
    "### Data integration using BKNN"
   ]
  },
  {
   "cell_type": "code",
   "execution_count": null,
   "id": "08ddabc7",
   "metadata": {},
   "outputs": [],
   "source": [
    "sce.pp.bbknn(adata_bbknn, batch_key='batch')  # running bbknn 1.3.6"
   ]
  },
  {
   "cell_type": "code",
   "execution_count": null,
   "id": "ca5e63ed",
   "metadata": {},
   "outputs": [],
   "source": [
    "adata_bbknn"
   ]
  },
  {
   "cell_type": "code",
   "execution_count": null,
   "id": "b4978277",
   "metadata": {},
   "outputs": [],
   "source": [
    "sc.tl.tsne(adata_bbknn)"
   ]
  },
  {
   "cell_type": "code",
   "execution_count": null,
   "id": "1aaee819",
   "metadata": {},
   "outputs": [],
   "source": [
    "adata_bbknn"
   ]
  },
  {
   "cell_type": "markdown",
   "id": "616ec336",
   "metadata": {},
   "source": [
    "### Visualize BBKNN results"
   ]
  },
  {
   "cell_type": "code",
   "execution_count": null,
   "id": "e889f238",
   "metadata": {},
   "outputs": [],
   "source": [
    "with rc_context({'figure.figsize': (6, 6)}):\n",
    "    sc.pl.tsne(adata_bbknn,color=['batch_name'], title=' ', legend_fontsize=10)"
   ]
  },
  {
   "cell_type": "code",
   "execution_count": null,
   "id": "3338d09c",
   "metadata": {},
   "outputs": [],
   "source": [
    "with rc_context({'figure.figsize': (6, 6)}):\n",
    "    sc.pl.tsne(adata_bbknn, color=['disease_type'], title=' ', legend_fontsize=10)"
   ]
  },
  {
   "cell_type": "markdown",
   "id": "d73b4c80",
   "metadata": {},
   "source": [
    "### Data integration with scanorama"
   ]
  },
  {
   "cell_type": "code",
   "execution_count": null,
   "id": "4276666c",
   "metadata": {
    "tags": []
   },
   "outputs": [],
   "source": [
    "# split per batch into new objects.\n",
    "batches = adata.obs['batch'].cat.categories.tolist()\n",
    "alldata = {}\n",
    "for batch in batches:\n",
    "    alldata[batch] = adata[adata.obs['batch'] == batch,]\n",
    "\n",
    "alldata"
   ]
  },
  {
   "cell_type": "code",
   "execution_count": null,
   "id": "14e13a10",
   "metadata": {
    "tags": []
   },
   "outputs": [],
   "source": [
    "adatas = list(alldata.values())\n",
    "\n",
    "# run scanorama.integrate\n",
    "scanorama.integrate_scanpy(adatas, dimred = 50)"
   ]
  },
  {
   "cell_type": "code",
   "execution_count": null,
   "id": "549f8dcd",
   "metadata": {},
   "outputs": [],
   "source": [
    "# Get all the integrated matrices.\n",
    "scanorama_int = [ad.obsm['X_scanorama'] for ad in adatas]\n",
    "\n",
    "# make into one matrix.\n",
    "all_s = np.concatenate(scanorama_int)\n",
    "print(all_s.shape)\n",
    "\n",
    "# add to the AnnData object, create a new object first\n",
    "adata_sc = adata.copy()\n",
    "adata_sc.obsm[\"Scanorama\"] = all_s"
   ]
  },
  {
   "cell_type": "code",
   "execution_count": null,
   "id": "eee6c790",
   "metadata": {},
   "outputs": [],
   "source": [
    "adata_sc"
   ]
  },
  {
   "cell_type": "code",
   "execution_count": null,
   "id": "c0f123c4",
   "metadata": {},
   "outputs": [],
   "source": [
    "# tsne and umap\n",
    "sc.pp.neighbors(adata_sc, use_rep = \"Scanorama\")\n",
    "sc.tl.tsne(adata_sc, use_rep = \"Scanorama\")"
   ]
  },
  {
   "cell_type": "markdown",
   "id": "906a22a4",
   "metadata": {},
   "source": [
    "### Visualize results with SCANORAMA"
   ]
  },
  {
   "cell_type": "code",
   "execution_count": null,
   "id": "46e521a6",
   "metadata": {},
   "outputs": [],
   "source": [
    "with rc_context({'figure.figsize': (6, 6)}):\n",
    "    sc.pl.tsne(adata_sc, color=['batch_name'], title=' ', legend_fontsize=10)"
   ]
  },
  {
   "cell_type": "code",
   "execution_count": null,
   "id": "69ce7191",
   "metadata": {},
   "outputs": [],
   "source": [
    "with rc_context({'figure.figsize': (6, 6)}):\n",
    "    sc.pl.tsne(adata_sc, color=['disease_type'], title=' ', legend_fontsize=10)"
   ]
  },
  {
   "cell_type": "markdown",
   "id": "e295b1c8",
   "metadata": {},
   "source": [
    "### Data integration with Harmonypy"
   ]
  },
  {
   "cell_type": "code",
   "execution_count": null,
   "id": "c8cd8a34",
   "metadata": {},
   "outputs": [],
   "source": [
    "sce.pp.harmony_integrate(adata, 'batch')"
   ]
  },
  {
   "cell_type": "code",
   "execution_count": null,
   "id": "f19e36c5",
   "metadata": {},
   "outputs": [],
   "source": [
    "sc.pp.neighbors(adata, use_rep = \"X_pca_harmony\")\n",
    "sc.tl.tsne(adata, use_rep = \"X_pca_harmony\")"
   ]
  },
  {
   "cell_type": "markdown",
   "id": "91da121e",
   "metadata": {},
   "source": [
    "### Visualize results with Harmonypy"
   ]
  },
  {
   "cell_type": "code",
   "execution_count": null,
   "id": "77d33048",
   "metadata": {},
   "outputs": [],
   "source": [
    "with rc_context({'figure.figsize': (6, 6)}):\n",
    "    sc.pl.tsne(adata, color=['batch_name'], title=' ', legend_fontsize=10)"
   ]
  },
  {
   "cell_type": "code",
   "execution_count": null,
   "id": "aaca55a2",
   "metadata": {},
   "outputs": [],
   "source": [
    "with rc_context({'figure.figsize': (6, 6)}):\n",
    "    sc.pl.tsne(adata, color=['disease_type'], title=' ', legend_fontsize=10)"
   ]
  },
  {
   "cell_type": "code",
   "execution_count": null,
   "id": "c71f86c5",
   "metadata": {},
   "outputs": [],
   "source": []
  }
 ],
 "metadata": {
  "kernelspec": {
   "display_name": "Python 3 (ipykernel)",
   "language": "python",
   "name": "python3"
  },
  "language_info": {
   "codemirror_mode": {
    "name": "ipython",
    "version": 3
   },
   "file_extension": ".py",
   "mimetype": "text/x-python",
   "name": "python",
   "nbconvert_exporter": "python",
   "pygments_lexer": "ipython3",
   "version": "3.10.9"
  }
 },
 "nbformat": 4,
 "nbformat_minor": 5
}
